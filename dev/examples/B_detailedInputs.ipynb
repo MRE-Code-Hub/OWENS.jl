{
 "cells": [
  {
   "cell_type": "markdown",
   "source": [
    "# Detailed Inputs\n",
    "\n",
    "In this example, we show the second level of what is going on behind the precompiled binary\n",
    "This would be appropriate if you need more customization in the run and design parameters than the\n",
    "input file currently allows, but your design still fits within the setupOWENS helper function etc."
   ],
   "metadata": {}
  },
  {
   "cell_type": "markdown",
   "source": [
    "First we import the packages.  If \"using\" was employed, then all of the functions of the packages\n",
    "specified would be made available, but \"import\" requires PackageName.FunctionName to be used unless\n",
    "the function was explicitely exported in the package.  If \"include(\"filepath/filename.jl)\" is used,\n",
    "that is the same as copying and pasting.  Please see the respective page on YAML input (TODO) for a\n",
    "description of the YAML inputs"
   ],
   "metadata": {}
  },
  {
   "outputs": [
    {
     "name": "stdout",
     "output_type": "stream",
     "text": [
      "┌ Warning: The old combined yaml file is being depreciated in favor of the windio yaml and the modelingoptions format\n",
      "└ @ OWENS ~/work/OWENS.jl/OWENS.jl/src/topRunDLC.jl:636\n"
     ]
    }
   ],
   "cell_type": "code",
   "source": [
    "import OWENS\n",
    "import OWENSAero\n",
    "#### import PyPlot\n",
    "runpath = path = \"/home/runner/work/OWENS.jl/OWENS.jl/examples/literate\" # to run locally, change to splitdir(@__FILE__)[1]\n",
    "# runpath = path = splitdir(@__FILE__)[1]\n",
    "Inp = OWENS.MasterInput(\"$runpath/sampleOWENS.yml\")\n",
    "\n",
    "nothing"
   ],
   "metadata": {},
   "execution_count": 1
  },
  {
   "cell_type": "markdown",
   "source": [
    "Unpack inputs, or you could directly input them here and bypass the file"
   ],
   "metadata": {}
  },
  {
   "outputs": [],
   "cell_type": "code",
   "source": [
    "verbosity = 1\n",
    "\n",
    "analysisType = Inp.analysisType\n",
    "turbineType = Inp.turbineType\n",
    "eta = Inp.eta\n",
    "Nbld = Inp.Nbld\n",
    "towerHeight = Inp.towerHeight\n",
    "rho = Inp.rho\n",
    "Vinf = Inp.Vinf\n",
    "controlStrategy = Inp.controlStrategy\n",
    "RPM = Inp.RPM\n",
    "Nslices = Inp.Nslices\n",
    "ntheta = Inp.ntheta\n",
    "structuralModel = Inp.structuralModel\n",
    "ntelem = Inp.ntelem\n",
    "nbelem = Inp.nbelem\n",
    "ncelem = Inp.ncelem\n",
    "nselem = Inp.nselem\n",
    "ifw = Inp.ifw\n",
    "WindType = Inp.WindType\n",
    "AeroModel = Inp.AeroModel\n",
    "windINPfilename = \"$(path)$(Inp.windINPfilename)\"\n",
    "ifw_libfile = Inp.ifw_libfile\n",
    "if ifw_libfile == \"nothing\"\n",
    "    ifw_libfile = nothing\n",
    "end\n",
    "Blade_Height = Inp.Blade_Height\n",
    "Blade_Radius = Inp.Blade_Radius\n",
    "numTS = Inp.numTS\n",
    "delta_t = Inp.delta_t\n",
    "NuMad_geom_xlscsv_file_twr = \"$(path)$(Inp.NuMad_geom_xlscsv_file_twr)\"\n",
    "NuMad_mat_xlscsv_file_twr = \"$(path)$(Inp.NuMad_mat_xlscsv_file_twr)\"\n",
    "NuMad_geom_xlscsv_file_bld = \"$(path)$(Inp.NuMad_geom_xlscsv_file_bld)\"\n",
    "NuMad_mat_xlscsv_file_bld = \"$(path)$(Inp.NuMad_mat_xlscsv_file_bld)\"\n",
    "NuMad_geom_xlscsv_file_strut = \"$(path)$(Inp.NuMad_geom_xlscsv_file_strut)\"\n",
    "NuMad_mat_xlscsv_file_strut = \"$(path)$(Inp.NuMad_mat_xlscsv_file_strut)\"\n",
    "adi_lib = Inp.adi_lib\n",
    "if adi_lib == \"nothing\"\n",
    "    adi_lib = nothing\n",
    "end\n",
    "adi_rootname = \"$(path)$(Inp.adi_rootname)\"\n",
    "\n",
    "B = Nbld\n",
    "R = Blade_Radius#177.2022*0.3048 #m\n",
    "H = Blade_Height#1.02*R*2 #m\n",
    "\n",
    "shapeZ = collect(LinRange(0,H,Nslices+1))\n",
    "shapeX = R.*(1.0.-4.0.*(shapeZ/H.-.5).^2)#shapeX_spline(shapeZ)\n",
    "\n",
    "nothing"
   ],
   "metadata": {},
   "execution_count": 2
  },
  {
   "cell_type": "markdown",
   "source": [
    "Call the helper function that builds the mesh, calculates the sectional properties,\n",
    "and aligns the sectional properties to the mesh elements,"
   ],
   "metadata": {}
  },
  {
   "outputs": [
    {
     "name": "stdout",
     "output_type": "stream",
     "text": [
      "┌ Warning: Mesh warning: two points are directly on top of one another, consider adjusting number of elements to space out the mesh\n",
      "└ @ OWENS ~/work/OWENS.jl/OWENS.jl/src/meshing_utilities.jl:392\n",
      "┌ Warning: Mesh warning: two points are directly on top of one another, consider adjusting number of elements to space out the mesh\n",
      "└ @ OWENS ~/work/OWENS.jl/OWENS.jl/src/meshing_utilities.jl:392\n",
      "┌ Warning: Data for SN curve control points not found in material file columns 23:28 for stress in Mpa, 29:33 for cycles in log10\n",
      "└ @ OWENS ~/work/OWENS.jl/OWENS.jl/src/fileio.jl:659\n",
      "┌ Warning: Data for SN curve control points not found in material file columns 23:28 for stress in Mpa, 29:33 for cycles in log10\n",
      "└ @ OWENS ~/work/OWENS.jl/OWENS.jl/src/fileio.jl:659\n",
      "┌ Warning: Data for SN curve control points not found in material file columns 23:28 for stress in Mpa, 29:33 for cycles in log10\n",
      "└ @ OWENS ~/work/OWENS.jl/OWENS.jl/src/fileio.jl:659\n",
      "┌ Warning: Data for SN curve control points not found in material file columns 23:28 for stress in Mpa, 29:33 for cycles in log10\n",
      "└ @ OWENS ~/work/OWENS.jl/OWENS.jl/src/fileio.jl:659\n",
      "Opening AeroDyn-Inflow library at: /home/runner/.julia/artifacts/40e731aa229ee668f59fa694053de285aeb6d77f/lib/libaerodyn_inflow_c_binding.so\n",
      "\n",
      " **************************************************************************************************\n",
      " AeroDyn-Inflow library\n",
      "\n",
      " Copyright (C) 2024 National Renewable Energy Laboratory\n",
      " Copyright (C) 2024 Envision Energy USA LTD\n",
      "\n",
      " This program is licensed under Apache License Version 2.0 and comes with ABSOLUTELY NO WARRANTY.\n",
      " See the \"LICENSE\" file distributed with this software for details.\n",
      " **************************************************************************************************\n",
      "\n",
      " AeroDyn-Inflow library-v2.5.0-3490-g24c05a74\n",
      " Compile Info:\n",
      "  - Compiler: GCC version 8.1.0\n",
      "  - Architecture: 64 bit\n",
      "  - Precision: double\n",
      "  - OpenMP: No\n",
      "  - Date: Nov  5 2024\n",
      "  - Time: 02:19:23\n",
      " Execution Info:\n",
      "  - Date: 12/20/2024\n",
      "  - Time: 01:31:59+0000\n",
      "\n",
      " Running ADI.\n",
      " Running AeroDyn.\n",
      " Running OLAF.\n",
      "  - Directory:         /home/runner/work/OWENS.jl/OWENS.jl/docs/src/examples\n",
      "  - RootName:          /home/runner/work/OWENS.jl/OWENS.jl/examples/literate/ExampleB.\n",
      "  - Reading advanced options for OLAF:\n",
      " [WARN] Line ignored: \"VERT2\"   DEFAULT      -10       30.   400     5.      5.     1     5.136    15.136  100\n",
      "  - OLAF regularization parameters (for wing 1):\n",
      "    WingReg (min/max) :  12.2425 25.2472\n",
      "    WakeReg (min/max) :  12.2425 25.2472\n",
      "    k = alpha delta nu:   0.0368\n",
      " Running InflowWind.\n"
     ]
    }
   ],
   "cell_type": "code",
   "source": [
    "mymesh,myel,myort,myjoint,sectionPropsArray,mass_twr, mass_bld,\n",
    "stiff_twr, stiff_bld,bld_precompinput,\n",
    "bld_precompoutput,plyprops_bld,numadIn_bld,lam_U_bld,lam_L_bld,\n",
    "twr_precompinput,twr_precompoutput,plyprops_twr,numadIn_twr,lam_U_twr,lam_L_twr,aeroForces,deformAero,\n",
    "mass_breakout_blds,mass_breakout_twr,system,assembly,sections,AD15bldNdIdxRng, AD15bldElIdxRng = OWENS.setupOWENS(OWENSAero,path;\n",
    "    rho,\n",
    "    Nslices,\n",
    "    ntheta,\n",
    "    RPM,\n",
    "    Vinf,\n",
    "    eta,\n",
    "    B,\n",
    "    H,\n",
    "    R,\n",
    "    shapeZ,\n",
    "    shapeX,\n",
    "    ifw,\n",
    "    WindType,\n",
    "    delta_t,\n",
    "    numTS,\n",
    "    adi_lib,\n",
    "    adi_rootname,\n",
    "    windINPfilename,\n",
    "    ifw_libfile,\n",
    "    NuMad_geom_xlscsv_file_twr,# = \"$path/data/NuMAD_Geom_SNL_5MW_ARCUS_Cables.csv\",\n",
    "    NuMad_mat_xlscsv_file_twr,# = \"$path/data/NuMAD_Materials_SNL_5MW_D_TaperedTower.csv\",\n",
    "    NuMad_geom_xlscsv_file_bld,# = \"$path/data/NuMAD_Geom_SNL_5MW_ARCUS.csv\",\n",
    "    NuMad_mat_xlscsv_file_bld,# = \"$path/data/NuMAD_Materials_SNL_5MW_D_Carbon_LCDT_ThickFoils_ThinSkin.csv\",\n",
    "    NuMad_geom_xlscsv_file_strut,\n",
    "    NuMad_mat_xlscsv_file_strut,\n",
    "    Htwr_base=towerHeight,\n",
    "    strut_twr_mountpoint = [0.2,0.8],\n",
    "    strut_bld_mountpoint = [0.2,0.8],\n",
    "    ntelem,\n",
    "    nbelem,\n",
    "    ncelem,\n",
    "    nselem,\n",
    "    joint_type = 0,\n",
    "    c_mount_ratio = 0.05,\n",
    "    AeroModel, #AD, DMS, AC\n",
    "    DynamicStallModel=\"BV\",\n",
    "    RPI=true,\n",
    "    cables_connected_to_blade_base = true,\n",
    "    meshtype = turbineType)\n",
    "\n",
    "nothing"
   ],
   "metadata": {},
   "execution_count": 3
  },
  {
   "cell_type": "markdown",
   "source": [
    "Optionally, we can run the finite element solver with gemetrically exact beam theory via GXBeam.jl\n",
    "this requires that the OWENS style inputs are converted to the GXBeam inputs.  This interface also\n",
    "includes the ability to output VTK files, which can be viewed in paraview.  We have adapted this interface\n",
    "to work with OWENS inputs as well."
   ],
   "metadata": {}
  },
  {
   "outputs": [],
   "cell_type": "code",
   "source": [
    "nothing"
   ],
   "metadata": {},
   "execution_count": 4
  },
  {
   "cell_type": "markdown",
   "source": [
    "If the sectional properties material files includes cost information, that is combined with the density\n",
    "to estimate the overall material cost of of materials in the blades"
   ],
   "metadata": {}
  },
  {
   "outputs": [
    {
     "name": "stdout",
     "output_type": "stream",
     "text": [
      "\n",
      "Blades' Mass Breakout\n",
      "CLA_5500 20670.29648289118 kg, 2.06 $/kg: $42580.81075475583\n",
      "CBX_2400 9730.417758654583 kg, 2.1 $/kg: $20433.877293174624\n",
      "ETLX_2400 0.0 kg, 2.21 $/kg: $0.0\n",
      "Airex_C70_55 789.5974763487575 kg, 7.23 $/kg: $5708.7897540015165\n",
      "EBX_2400_x10 0.0 kg, 2.06 $/kg: $0.0\n",
      "ETLX_2400_x10 0.0 kg, 2.1 $/kg: $0.0\n",
      "Airex_C70_55_x10 0.0 kg, 7.23 $/kg: $0.0\n",
      "\n",
      "Tower Mass Breakout\n",
      "CLA_5500 133368.60013602406 kg, 2.06 $/kg: $274739.3162802096\n",
      "CBX_2400 32523.066445448334 kg, 2.1 $/kg: $68298.4395354415\n",
      "ETLX_2400 0.0 kg, 2.21 $/kg: $0.0\n",
      "Airex_C70_55 0.0 kg, 7.23 $/kg: $0.0\n",
      "EBX_2400_x10 0.0 kg, 2.06 $/kg: $0.0\n",
      "ETLX_2400_x10 0.0 kg, 2.1 $/kg: $0.0\n",
      "Airex_C70_55_x10 0.0 kg, 7.23 $/kg: $0.0\n",
      "Total Material Cost Blades: $68723.47780193196\n",
      "Total Material Cost Tower: $343037.7558156511\n",
      "Total Material Cost: $411761.23361758306\n"
     ]
    }
   ],
   "cell_type": "code",
   "source": [
    "if verbosity>0\n",
    "\n",
    "    println(\"\\nBlades' Mass Breakout\")\n",
    "    for (i,name) in enumerate(plyprops_bld.names)\n",
    "        println(\"$name $(mass_breakout_blds[i]) kg, $(plyprops_bld.costs[i]) \\$/kg: \\$$(mass_breakout_blds[i]*plyprops_bld.costs[i])\")\n",
    "    end\n",
    "\n",
    "    println(\"\\nTower Mass Breakout\")\n",
    "    for (i,name) in enumerate(plyprops_twr.names)\n",
    "        println(\"$name $(mass_breakout_twr[i]) kg, $(plyprops_twr.costs[i]) \\$/kg: \\$$(mass_breakout_twr[i]*plyprops_twr.costs[i])\")\n",
    "    end\n",
    "\n",
    "    println(\"Total Material Cost Blades: \\$$(sum(mass_breakout_blds.*plyprops_bld.costs))\")\n",
    "    println(\"Total Material Cost Tower: \\$$(sum(mass_breakout_twr.*plyprops_twr.costs))\")\n",
    "    println(\"Total Material Cost: \\$$(sum(mass_breakout_blds.*plyprops_bld.costs)+ sum(mass_breakout_twr.*plyprops_twr.costs))\")\n",
    "\n",
    "end\n",
    "\n",
    "nothing"
   ],
   "metadata": {},
   "execution_count": 5
  },
  {
   "cell_type": "markdown",
   "source": [
    "Here we apply the boundary conditions.  For this case, with a regular cantelever tower, the tower base node which is\n",
    "1 is constrained in all 6 degrees of freedom to have a displacement of 0.  You can change this displacement to allow for things\n",
    "like pretension, and you can apply boundary conditions to any node."
   ],
   "metadata": {}
  },
  {
   "outputs": [],
   "cell_type": "code",
   "source": [
    "pBC = [1 1 0\n",
    "1 2 0\n",
    "1 3 0\n",
    "1 4 0\n",
    "1 5 0\n",
    "1 6 0]\n",
    "\n",
    "nothing"
   ],
   "metadata": {},
   "execution_count": 6
  },
  {
   "cell_type": "markdown",
   "source": [
    "There are inputs for the overall coupled simulation, please see the api reference for specifics on all the options"
   ],
   "metadata": {}
  },
  {
   "outputs": [],
   "cell_type": "code",
   "source": [
    "if AeroModel==\"AD\"\n",
    "    AD15On = true\n",
    "else\n",
    "    AD15On = false\n",
    "end\n",
    "\n",
    "inputs = OWENS.Inputs(;verbosity,analysisType = structuralModel,\n",
    "tocp = [0.0,100000.1],\n",
    "Omegaocp = [RPM,RPM] ./ 60,\n",
    "tocp_Vinf = [0.0,100000.1],\n",
    "Vinfocp = [Vinf,Vinf],\n",
    "numTS,\n",
    "delta_t,\n",
    "AD15On,\n",
    "aeroLoadsOn = 2)\n",
    "\n",
    "nothing"
   ],
   "metadata": {},
   "execution_count": 7
  },
  {
   "cell_type": "markdown",
   "source": [
    "Then there are inputs for the finite element models, also, please see the api reference for specifics on the options (TODO: ensure that this is propogated to the docs)"
   ],
   "metadata": {}
  },
  {
   "outputs": [],
   "cell_type": "code",
   "source": [
    "feamodel = OWENS.FEAModel(;analysisType = structuralModel,\n",
    "dataOutputFilename = \"none\",\n",
    "joint = myjoint,\n",
    "platformTurbineConnectionNodeNumber = 1,\n",
    "pBC,\n",
    "nlOn = true,\n",
    "numNodes = mymesh.numNodes,\n",
    "RayleighAlpha = 0.05,\n",
    "RayleighBeta = 0.05,\n",
    "iterationType = \"DI\")\n",
    "\n",
    "nothing"
   ],
   "metadata": {},
   "execution_count": 8
  },
  {
   "cell_type": "markdown",
   "source": [
    "Here is where we actually call the unsteady simulation and where owens pulls the aero and structural solutions together\n",
    "and propogates things in time."
   ],
   "metadata": {}
  },
  {
   "outputs": [
    {
     "name": "stdout",
     "output_type": "stream",
     "text": [
      "Running Unsteady\n",
      "Running in specified rotor speed mode\n",
      "\n",
      "\r2.0%┣▉                                          ┫ 1/49 [00:00<Inf:Inf, InfGs/it]\n",
      " [INFO] FVW: Update States: reevaluation at the same starting time.  This will not print on\n",
      " subsequent occurences.\n",
      "\u001b[1A\r4.1%┣██                                             ┫ 2/49 [00:23<18:23, 23s/it]\n",
      "\u001b[1A\r6.1%┣██▉                                            ┫ 3/49 [00:25<09:29, 12s/it]\n",
      "\u001b[1A\r8.2%┣████                                            ┫ 4/49 [00:26<06:23, 9s/it]\n",
      "\u001b[1A\r10.2%┣████▉                                          ┫ 5/49 [00:26<04:50, 7s/it]\n",
      "\u001b[1A\r12.2%┣█████▊                                         ┫ 6/49 [00:27<03:54, 5s/it]\n",
      "\u001b[1A\r14.3%┣██████▊                                        ┫ 7/49 [00:28<03:16, 5s/it]\n",
      "\u001b[1A\r16.3%┣███████▊                                       ┫ 8/49 [00:29<02:49, 4s/it]\n",
      "\u001b[1A\r18.4%┣████████▋                                      ┫ 9/49 [00:30<02:29, 4s/it]\n",
      "\u001b[1A\r20.4%┣█████████▍                                    ┫ 10/49 [00:31<02:13, 3s/it]\n",
      "\u001b[1A\r22.4%┣██████████▎                                   ┫ 11/49 [00:32<02:00, 3s/it]\n",
      "\u001b[1A\r24.5%┣███████████▎                                  ┫ 12/49 [00:32<01:49, 3s/it]\n",
      "\u001b[1A\r26.5%┣████████████▏                                 ┫ 13/49 [00:33<01:40, 3s/it]\n",
      "\u001b[1A\r28.6%┣█████████████▏                                ┫ 14/49 [00:34<01:32, 3s/it]\n",
      "\u001b[1A\r30.6%┣██████████████                                ┫ 15/49 [00:35<01:24, 2s/it]\n",
      "\u001b[1A\r32.7%┣███████████████                               ┫ 16/49 [00:36<01:18, 2s/it]\n",
      "\u001b[1A\r34.7%┣████████████████                              ┫ 17/49 [00:36<01:12, 2s/it]\n",
      "\u001b[1A\r36.7%┣█████████████████                             ┫ 18/49 [00:37<01:07, 2s/it]\n",
      "\u001b[1A\r38.8%┣█████████████████▉                            ┫ 19/49 [00:37<01:02, 2s/it]\n",
      "\u001b[1A\r40.8%┣██████████████████▊                           ┫ 20/49 [00:38<00:58, 2s/it]\n",
      "\u001b[1A\r42.9%┣███████████████████▊                          ┫ 21/49 [00:39<00:54, 2s/it]\n",
      "\u001b[1A\r44.9%┣████████████████████▋                         ┫ 22/49 [00:39<00:50, 2s/it]\n",
      "\u001b[1A\r46.9%┣█████████████████████▋                        ┫ 23/49 [00:40<00:47, 2s/it]\n",
      "\u001b[1A\r49.0%┣██████████████████████▌                       ┫ 24/49 [00:40<00:44, 2s/it]\n",
      "\u001b[1A\r51.0%┣███████████████████████▌                      ┫ 25/49 [00:41<00:41, 2s/it]\n",
      "\u001b[1A\r53.1%┣████████████████████████▍                     ┫ 26/49 [00:42<00:38, 2s/it]\n",
      "\u001b[1A\r55.1%┣█████████████████████████▍                    ┫ 27/49 [00:42<00:36, 2s/it]\n",
      "\u001b[1A\r57.1%┣██████████████████████████▎                   ┫ 28/49 [00:43<00:34, 2s/it]\n",
      "\u001b[1A\r59.2%┣███████████████████████████▎                  ┫ 29/49 [00:44<00:31, 2s/it]\n",
      "\u001b[1A\r61.2%┣████████████████████████████▏                 ┫ 30/49 [00:44<00:29, 2s/it]\n",
      "\u001b[1A\r63.3%┣█████████████████████████████                 ┫ 31/49 [00:45<00:27, 2s/it]\n",
      "\u001b[1A\r65.3%┣██████████████████████████████                ┫ 32/49 [00:46<00:25, 1s/it]\n",
      "\u001b[1A\r67.3%┣███████████████████████████████               ┫ 33/49 [00:46<00:23, 1s/it]\n",
      "\u001b[1A\r69.4%┣████████████████████████████████              ┫ 34/49 [00:47<00:21, 1s/it]\n",
      "\u001b[1A\r71.4%┣████████████████████████████████▉             ┫ 35/49 [00:48<00:20, 1s/it]\n",
      "\u001b[1A\r73.5%┣█████████████████████████████████▉            ┫ 36/49 [00:48<00:18, 1s/it]\n",
      "\u001b[1A\r75.5%┣██████████████████████████████████▊           ┫ 37/49 [00:49<00:16, 1s/it]\n",
      "\u001b[1A\r77.6%┣███████████████████████████████████▊          ┫ 38/49 [00:50<00:15, 1s/it]\n",
      "\u001b[1A\r79.6%┣████████████████████████████████████▋         ┫ 39/49 [00:51<00:13, 1s/it]\n",
      "\u001b[1A\r81.6%┣█████████████████████████████████████▌        ┫ 40/49 [00:51<00:12, 1s/it]\n",
      "\u001b[1A\r83.7%┣██████████████████████████████████████▌       ┫ 41/49 [00:52<00:10, 1s/it]\n",
      "\u001b[1A\r85.7%┣███████████████████████████████████████▍      ┫ 42/49 [00:53<00:09, 1s/it]\n",
      "\u001b[1A\r87.8%┣████████████████████████████████████████▍     ┫ 43/49 [00:53<00:08, 1s/it]\n",
      "\u001b[1A\r89.8%┣█████████████████████████████████████████▎    ┫ 44/49 [00:54<00:06, 1s/it]\n",
      "\u001b[1A\r91.8%┣██████████████████████████████████████████▎   ┫ 45/49 [00:55<00:05, 1s/it]\n",
      "\u001b[1A\r93.9%┣███████████████████████████████████████████▏  ┫ 46/49 [00:55<00:04, 1s/it]\n",
      "\u001b[1A\r95.9%┣████████████████████████████████████████████▏ ┫ 47/49 [00:56<00:02, 1s/it]\n",
      "\u001b[1A\r98.0%┣█████████████████████████████████████████████ ┫ 48/49 [00:57<00:01, 1s/it]\n",
      "\u001b[1A\r100.0%┣█████████████████████████████████████████████┫ 49/49 [00:58<00:00, 1s/it]\n",
      "Simulation Complete.\n",
      " >>> FINAL WRITE\n"
     ]
    }
   ],
   "cell_type": "code",
   "source": [
    "println(\"Running Unsteady\")\n",
    "t, aziHist,OmegaHist,OmegaDotHist,gbHist,gbDotHist,gbDotDotHist,FReactionHist,\n",
    "FTwrBsHist,genTorque,genPower,torqueDriveShaft,uHist,uHist_prp,epsilon_x_hist,epsilon_y_hist,\n",
    "epsilon_z_hist,kappa_x_hist,kappa_y_hist,kappa_z_hist = OWENS.Unsteady_Land(inputs;system,assembly,\n",
    "topModel=feamodel,topMesh=mymesh,topEl=myel,aero=aeroForces,deformAero)\n",
    "\n",
    "if AD15On #TODO: move this into the run functions\n",
    "    OWENS.OWENSOpenFASTWrappers.endTurb()\n",
    "end\n",
    "\n",
    "nothing"
   ],
   "metadata": {},
   "execution_count": 9
  },
  {
   "cell_type": "markdown",
   "source": [
    "Like described above, we can output vtk files viewable in paraview.  Here it is done for each time step and shows the\n",
    "deformations.  Additionaly, there is a method to input custom values and have them show up on the vtk surface mesh\n",
    "for example, strain, or reaction force, etc.  This is described in more detail in the api reference for the function and: TODO"
   ],
   "metadata": {}
  },
  {
   "outputs": [
    {
     "name": "stdout",
     "output_type": "stream",
     "text": [
      "Saving VTK time domain files\n"
     ]
    }
   ],
   "cell_type": "code",
   "source": [
    "println(\"Saving VTK time domain files\")\n",
    "OWENS.OWENSFEA_VTK(\"$path/vtk/SNLARCUS5MW_timedomain_TNBnltrue\",t,uHist,system,assembly,sections;scaling=1,azi=aziHist)\n",
    "\n",
    "nothing"
   ],
   "metadata": {},
   "execution_count": 10
  },
  {
   "cell_type": "markdown",
   "source": [
    "This helper function looks through all the loads and picks out the worst case safety factor in each of the stacks of composite lamina\n",
    "it also calculates analytical simply supported buckling safety factors"
   ],
   "metadata": {}
  },
  {
   "outputs": [
    {
     "name": "stdout",
     "output_type": "stream",
     "text": [
      "Composite Ultimate and Buckling Safety Factors\n",
      "\n",
      "\n",
      "UPPER BLADE SURFACE\n",
      "\n",
      "Minimum Safety Factor on Surface: 3.5925325913195074\n",
      "At time 0.045s at composite station 5 of 21 at lam 4 of 6\n",
      "Maximum Damage per hr: 1.1755102042134247\n",
      "At composite station 17 of 21 at lam 3 of 6\n",
      "\n",
      "\n",
      "LOWER BLADE SURFACE\n",
      "\n",
      "Minimum Safety Factor on Surface: 3.9068766912221387\n",
      "At time 0.02s at composite station 5 of 21 at lam 6 of 6\n",
      "Maximum Damage per hr: 1.1755102040872376\n",
      "At composite station 20 of 21 at lam 3 of 6\n",
      "\n",
      "\n",
      "UPPER TOWER\n",
      "\n",
      "Minimum Safety Factor on tower Surface: 22.0915701425071\n",
      "At time 0.017s at composite station 18 of 21 at lam 1 of 1\n",
      "Maximum Damage per hr: 0.14693877554709464\n",
      "At composite station 3 of 21 at lam 1 of 1\n",
      "\n",
      "\n",
      "Lower TOWER\n",
      "\n",
      "Minimum Safety Factor on tower Surface: 5.036128306917067\n",
      "At time 0.049s at composite station 1 of 21 at lam 1 of 1\n",
      "Maximum Damage per hr: 0.14693877571812486\n",
      "At composite station 1 of 21 at lam 1 of 1\n"
     ]
    }
   ],
   "cell_type": "code",
   "source": [
    "##########################################\n",
    "#### Ultimate Failure #####\n",
    "##########################################\n",
    "\n",
    "massOwens,stress_U,SF_ult_U,SF_buck_U,stress_L,SF_ult_L,SF_buck_L,stress_TU,SF_ult_TU,\n",
    "SF_buck_TU,stress_TL,SF_ult_TL,SF_buck_TL,topstrainout_blade_U,topstrainout_blade_L,\n",
    "topstrainout_tower_U,topstrainout_tower_LtopDamage_blade_U,\n",
    "topDamage_blade_L,topDamage_tower_U,topDamage_tower_L = OWENS.extractSF(bld_precompinput,\n",
    "bld_precompoutput,plyprops_bld,numadIn_bld,lam_U_bld,lam_L_bld,\n",
    "twr_precompinput,twr_precompoutput,plyprops_twr,numadIn_twr,lam_U_twr,lam_L_twr,\n",
    "mymesh,myel,myort,Nbld,epsilon_x_hist,kappa_y_hist,kappa_z_hist,epsilon_z_hist,\n",
    "kappa_x_hist,epsilon_y_hist;verbosity, #Verbosity 0:no printing, 1: summary, 2: summary and spanwise worst safety factor # epsilon_x_hist_1,kappa_y_hist_1,kappa_z_hist_1,epsilon_z_hist_1,kappa_x_hist_1,epsilon_y_hist_1,\n",
    "composite_station_idx_U_strut = [1,6,3,2,5],\n",
    "composite_station_name_U_strut = [\"Leading Edge\",\"Trailing Edge\",\"Spar Cap\",\"Front Panel\",\"Rear Panel\"],\n",
    "composite_station_idx_L_strut = [1,6,3,2,5],\n",
    "composite_station_name_L_strut = [\"Leading Edge\",\"Trailing Edge\",\"Spar Cap\",\"Front Panel\",\"Rear Panel\"],\n",
    "composite_station_idx_U_bld = [1,6,3,2,5],\n",
    "composite_station_name_U_bld = [\"Leading Edge\",\"Trailing Edge\",\"Spar Cap\",\"Front Panel\",\"Rear Panel\"],\n",
    "composite_station_idx_L_bld = [1,6,3,2,5],\n",
    "composite_station_name_L_bld = [\"Leading Edge\",\"Trailing Edge\",\"Spar Cap\",\"Front Panel\",\"Rear Panel\"],\n",
    "Twr_LE_U_idx=1,Twr_LE_L_idx=1,\n",
    "AD15bldNdIdxRng,AD15bldElIdxRng,strut_precompoutput=nothing) #TODO: add in ability to have material safety factors and load safety factors\n",
    "\n",
    "nothing"
   ],
   "metadata": {},
   "execution_count": 11
  },
  {
   "cell_type": "markdown",
   "source": [
    "---\n",
    "\n",
    "*This notebook was generated using [Literate.jl](https://github.com/fredrikekre/Literate.jl).*"
   ],
   "metadata": {}
  }
 ],
 "nbformat_minor": 3,
 "metadata": {
  "language_info": {
   "file_extension": ".jl",
   "mimetype": "application/julia",
   "name": "julia",
   "version": "1.11.2"
  },
  "kernelspec": {
   "name": "julia-1.11",
   "display_name": "Julia 1.11.2",
   "language": "julia"
  }
 },
 "nbformat": 4
}
